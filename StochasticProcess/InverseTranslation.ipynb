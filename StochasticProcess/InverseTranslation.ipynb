{
 "cells": [
  {
   "cell_type": "markdown",
   "metadata": {
    "collapsed": true
   },
   "source": [
    "This notebook focusses on the Inverse Translation Approximation Method (ITAM). The inverse translation of a lognormal process i.e. identifying the underlying gaussian stochastic proccess is carried out. Firstly, the sample generation code and translation is presented, details of which can be found in 'Translation.ipynb'."
   ]
  },
  {
   "cell_type": "code",
   "execution_count": 1,
   "metadata": {},
   "outputs": [],
   "source": [
    "import numpy as np\n",
    "import matplotlib.pyplot as plt\n",
    "\n",
    "T = 100  # Total time\n",
    "nt = 256  # Num of Discretized Time\n",
    "dt = T / nt\n",
    "\n",
    "F = 1 / T * nt / 2  # Frequency.(Hz)\n",
    "nw = 128  # Num of Discretized Freq.\n",
    "dw = F / nw\n",
    "t_u = 2*np.pi/2/F\n",
    "if dt>t_u:\n",
    "    print('Error (aliasing)')\n",
    "\n",
    "# Generation of Input Data(Stationary)\n",
    "t = np.linspace(0, T - dt, nt)\n",
    "w = np.linspace(0, F - dw, nw)\n",
    "\n",
    "# Compute the power spectral density S(w) at various points frequencies w\n",
    "S = 130 / 4 * w ** 2 * np.exp(-5 * w)\n",
    "nsamples = 1000\n",
    "\n",
    "from UQpy.StochasticProcess import SRM\n",
    "SRM_object = SRM(nsamples=nsamples, power_spectrum=S, time_interval=dt, frequency_interval=dw,\n",
    "                 number_time_intervals=nt, number_frequency_intervals=nw, random_state=1234)\n",
    "samples = SRM_object.samples\n",
    "\n",
    "from UQpy.Distributions import Lognormal\n",
    "\n",
    "dist_object = Lognormal(0.5, 0, np.exp(0.5))\n",
    "\n",
    "from UQpy.StochasticProcess import Translation\n",
    "\n",
    "Translate_object = Translation(dist_object=dist_object, time_interval=dt, frequency_interval=dw,\n",
    "                               number_time_intervals=nt, number_frequency_intervals=nw, power_spectrum_gaussian=S)\n",
    "\n",
    "R_ng = Translate_object.correlation_function_non_gaussian\n",
    "S_ng = Translate_object.power_spectrum_non_gaussian\n",
    "r_ng = Translate_object.scaled_correlation_function_non_gaussian\n",
    "\n",
    "# samples_ng = samples_ng.reshape([1000, 1, 256])"
   ]
  },
  {
   "cell_type": "markdown",
   "metadata": {},
   "source": [
    "Next, we identify the gaussian corelation function which upon translation yields the lognormal corelation"
   ]
  },
  {
   "cell_type": "code",
   "execution_count": null,
   "metadata": {
    "pycharm": {
     "is_executing": true
    }
   },
   "outputs": [],
   "source": [
    "from UQpy.StochasticProcess import InverseTranslation\n",
    "\n",
    "Inverse_translate_object = InverseTranslation(dist_object=dist_object, time_interval=dt, frequency_interval=dw,\n",
    "                                              number_time_intervals=nt, number_frequency_intervals=nw,\n",
    "                                              correlation_function_non_gaussian=R_ng)\n",
    "R_g_inv = Inverse_translate_object.correlation_function_gaussian\n",
    "S_g_inv = Inverse_translate_object.power_spectrum_gaussian"
   ]
  },
  {
   "cell_type": "code",
   "execution_count": null,
   "metadata": {
    "pycharm": {
     "name": "#%%\n",
     "is_executing": true
    }
   },
   "outputs": [],
   "source": [
    "fig7 = plt.figure(num=None, figsize=(8, 6), dpi=80, facecolor='w', edgecolor='k')\n",
    "# fig7 = plt.figure()\n",
    "# plt.plot(w, S_ng, label='non_Gaussian')\n",
    "plt.plot(w, S, label='Gaussian')\n",
    "plt.plot(w, S_g_inv, label='Gaussian Approx')\n",
    "plt.xlabel('frequency $\\omega$', FontSize=18)\n",
    "plt.ylabel('Power spectrum $S(\\omega)$', FontSize=18)\n",
    "plt.xlim(0, 1.3)\n",
    "plt.ylim(0, 0.8)\n",
    "plt.legend(loc='upper right')\n",
    "plt.savefig('power_spectrum_inverse_translation.eps')\n",
    "plt.show()"
   ]
  }
 ],
 "metadata": {
  "kernelspec": {
   "display_name": "Python 3",
   "language": "python",
   "name": "python3"
  },
  "language_info": {
   "codemirror_mode": {
    "name": "ipython",
    "version": 3
   },
   "file_extension": ".py",
   "mimetype": "text/x-python",
   "name": "python",
   "nbconvert_exporter": "python",
   "pygments_lexer": "ipython3",
   "version": "3.7.4"
  }
 },
 "nbformat": 4,
 "nbformat_minor": 1
}