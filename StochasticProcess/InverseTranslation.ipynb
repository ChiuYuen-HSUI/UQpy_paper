{
 "cells": [
  {
   "cell_type": "markdown",
   "metadata": {
    "collapsed": true
   },
   "source": [
    "This notebook focusses on the Inverse Translation Approximation Method (ITAM). The inverse translation of a lognormal process i.e. identifying the underlying gaussian stochastic proccess is carried out. Firstly, the sample generation code and translation is presented, details of which can be found in 'Translation.ipynb'."
   ]
  },
  {
   "cell_type": "code",
   "execution_count": 1,
   "metadata": {},
   "outputs": [],
   "source": [
    "import numpy as np\n",
    "import matplotlib.pyplot as plt\n",
    "plt.rcParams.update({'font.size': 15})\n",
    "\n",
    "T = 100  # Total time\n",
    "nt = 256  # Num of Discretized Time\n",
    "dt = T / nt\n",
    "\n",
    "F = 1 / T * nt / 2  # Frequency.(Hz)\n",
    "nw = 128  # Num of Discretized Freq.\n",
    "dw = F / nw\n",
    "t_u = 2*np.pi/2/F\n",
    "if dt>t_u:\n",
    "    print('Error (aliasing)')\n",
    "\n",
    "# Generation of Input Data(Stationary)\n",
    "t = np.linspace(0, T - dt, nt)\n",
    "w = np.linspace(0, F - dw, nw)\n",
    "\n",
    "# Compute the power spectral density S(w) at various points frequencies w\n",
    "S = 130 / 4 * w ** 2 * np.exp(-5 * w)\n",
    "nsamples = 1000\n",
    "\n",
    "from UQpy.StochasticProcess import SRM\n",
    "SRM_object = SRM(nsamples=nsamples, power_spectrum=S, time_duration=[dt], frequency_length=[dw],\n",
    "                 number_time_intervals=[nt], number_frequency_intervals=[nw], case='uni')\n",
    "samples = SRM_object.samples\n",
    "\n",
    "from UQpy.Distributions import Lognormal\n",
    "\n",
    "dist_object = Lognormal(0.5, 0, np.exp(0.5))\n",
    "\n",
    "from UQpy.StochasticProcess import Translation\n",
    "\n",
    "Translate_object = Translation(dist_object=dist_object, time_duration=dt, frequency_interval=dw,\n",
    "                               number_time_intervals=nt, number_frequency_intervals=nw, power_spectrum_gaussian=S,\n",
    "                               samples_gaussian=samples)\n",
    "samples_ng = Translate_object.samples_non_gaussian\n",
    "samples_ng = samples_ng - np.mean(samples_ng)\n",
    "R_ng = Translate_object.correlation_function_non_gaussian\n",
    "S_ng = Translate_object.power_spectrum_non_gaussian\n",
    "r_ng = Translate_object.scaled_correlation_function_non_gaussian\n",
    "\n",
    "# samples_ng = samples_ng.reshape([1000, 1, 256])"
   ]
  },
  {
   "cell_type": "markdown",
   "metadata": {},
   "source": [
    "Next, we identify the gaussian corelation function which upon translation yields the lognormal corelation"
   ]
  },
  {
   "cell_type": "code",
   "execution_count": 2,
   "metadata": {},
   "outputs": [
    {
     "name": "stdout",
     "output_type": "stream",
     "text": [
      "4.491445578843358\n",
      "1.484818810391029\n",
      "0.802689241623271\n",
      "0.5380983772599817\n",
      "0.3985042948644951\n",
      "0.3121537875278269\n",
      "0.2534148323684996\n",
      "0.21081558093426891\n",
      "0.17846866136445433\n",
      "0.15305825934171796\n",
      "0.1325798820919428\n",
      "0.11574940031130192\n",
      "0.10170302682692628\n",
      "0.08983539292598686\n",
      "0.07970749041793765\n",
      "0.07099182452767346\n",
      "0.06343830650358799\n",
      "0.05685220335672715\n",
      "0.05107938028720277\n",
      "0.0459961198073393\n",
      "0.04150191162985742\n",
      "0.037514230149288334\n",
      "0.03396467769231331\n",
      "0.03079608836841985\n",
      "0.027960321342287472\n",
      "0.025416557676427694\n",
      "0.023129970673870723\n",
      "0.02107067702545691\n",
      "0.019212901627033686\n",
      "0.017534306754622035\n",
      "0.016015448925729307\n",
      "0.014639335850552552\n",
      "0.013391062511005131\n",
      "0.012257510280196317\n",
      "0.011227096636430888\n",
      "0.010289565763133808\n",
      "0.009435812400127813\n",
      "0.008657732911291823\n",
      "0.007948098748840837\n",
      "0.0073004484579332965\n",
      "0.00670899510646421\n",
      "0.0061685466118886955\n",
      "0.005674436903134408\n",
      "0.005222466229793168\n",
      "0.0048088492212209595\n",
      "0.0044301695425790905\n",
      "0.004083340189534133\n",
      "0.003765568615717477\n",
      "0.0034743260216513576\n",
      "0.0032073202367173767\n",
      "0.0029624717138956153\n",
      "0.0027378922288001095\n",
      "0.002531865935085288\n",
      "0.002342832478704277\n",
      "0.0021693719155090646\n",
      "0.002010191209937927\n",
      "0.0018641121264226237\n",
      "0.0017300603468996469\n",
      "0.0016070556719738123\n",
      "0.0014942031780275527\n",
      "0.0013906852266710682\n",
      "0.0012957542253110971\n",
      "0.0012087260618109956\n",
      "0.0011289741386037938\n",
      "0.001055923946933585\n",
      "0.0009890481283441048\n",
      "0.0009278619788046018\n",
      "0.0008719193605751953\n",
      "0.0008208089896053471\n",
      "0.000774151079077556\n",
      "0.0007315943124965791\n",
      "0.0006928131392545834\n",
      "0.000657505369158606\n",
      "0.0006253900604323934\n",
      "0.0005962056795300124\n",
      "0.0005697085206653698\n",
      "0.0005456713590028163\n",
      "0.0005238823172557113\n",
      "0.0005041439147061748\n",
      "0.000486272267974773\n"
     ]
    }
   ],
   "source": [
    "from UQpy.StochasticProcess import InverseTranslation\n",
    "\n",
    "Inverse_translate_object = InverseTranslation(dist_object=dist_object, time_duration=dt, frequency_interval=dw,\n",
    "                                              number_time_intervals=nt, number_frequency_intervals=nw,\n",
    "                                              correlation_function_non_gaussian=R_ng, samples_non_gaussian=samples_ng)\n",
    "R_g_inv = Inverse_translate_object.correlation_function_gaussian\n",
    "S_g_inv = Inverse_translate_object.power_spectrum_gaussian"
   ]
  },
  {
   "cell_type": "code",
   "execution_count": 6,
   "metadata": {},
   "outputs": [
    {
     "name": "stderr",
     "output_type": "stream",
     "text": [
      "The PostScript backend does not support transparency; partially transparent artists will be rendered opaque.\n",
      "The PostScript backend does not support transparency; partially transparent artists will be rendered opaque.\n"
     ]
    },
    {
     "data": {
      "text/plain": "<Figure size 432x288 with 1 Axes>",
      "image/png": "[encoded data removed]"
     },
     "metadata": {
      "needs_background": "light"
     },
     "output_type": "display_data"
    }
   ],
   "source": [
    "plt.rcParams.update({'font.size': 14})\n",
    "\n",
    "fig7 = plt.figure()\n",
    "# plt.plot(w, S_ng, label='non_Gaussian')\n",
    "plt.plot(w, S, label='Gaussian')\n",
    "plt.plot(w, S_g_inv, label='Gaussian Approx')\n",
    "plt.xlabel('freqency $\\omega$')\n",
    "plt.ylabel('Power spectrum $S(\\omega)$')\n",
    "plt.xlim(0, 1.3)\n",
    "plt.ylim(0, 0.8)\n",
    "plt.legend(loc='upper right')\n",
    "plt.savefig('power_spectrum_inverse_translation.eps')\n",
    "plt.show()"
   ]
  },
  {
   "cell_type": "code",
   "execution_count": 3,
   "metadata": {},
   "outputs": [],
   "source": []
  }
 ],
 "metadata": {
  "kernelspec": {
   "display_name": "Python 3",
   "language": "python",
   "name": "python3"
  },
  "language_info": {
   "codemirror_mode": {
    "name": "ipython",
    "version": 3
   },
   "file_extension": ".py",
   "mimetype": "text/x-python",
   "name": "python",
   "nbconvert_exporter": "python",
   "pygments_lexer": "ipython3",
   "version": "3.7.4"
  }
 },
 "nbformat": 4,
 "nbformat_minor": 1
}