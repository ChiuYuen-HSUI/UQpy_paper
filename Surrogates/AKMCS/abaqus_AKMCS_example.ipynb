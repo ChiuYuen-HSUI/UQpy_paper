{
 "cells": [
  {
   "cell_type": "markdown",
   "metadata": {},
   "source": [
    "# Reliability Analysis (AK-MCS)"
   ]
  },
  {
   "cell_type": "markdown",
   "metadata": {},
   "source": [
    "## Intoduction"
   ]
  },
  {
   "cell_type": "markdown",
   "metadata": {},
   "source": [
    "This example file demonstrates how to generate samples using AKMCS object for reliability analysis. AKMCS requires Krig object and RunModel object, which enables UQpy to execute models in third-party software. The files necessary to run this example are:\n",
    "\n",
    "1. The input template - 'abaqus_input.py'\n",
    "2. The model script - 'abaqus_fire_analysis.py'\n",
    "3. The output script - 'extract_abaqus_output.py'\n",
    "4. The script used by the output script - 'abaqus_output_script.py'\n",
    "\n",
    "Note: To execute the example in this notebook, it is necessary to have access to the finite element solver Abaqus."
   ]
  },
  {
   "cell_type": "markdown",
   "metadata": {},
   "source": [
    "## Description of the model"
   ]
  },
  {
   "cell_type": "markdown",
   "metadata": {},
   "source": [
    "This example builds and analyzes a finite element model of a beam bearing uniformly distributed load, which is then subjected to fire load."
   ]
  },
  {
   "cell_type": "markdown",
   "metadata": {},
   "source": [
    "## The Script: "
   ]
  },
  {
   "cell_type": "markdown",
   "metadata": {},
   "source": [
    "Import the python modules used in this example, note down the start time and the current directory, which will be used later to save the results."
   ]
  },
  {
   "cell_type": "code",
   "execution_count": 1,
   "metadata": {},
   "outputs": [],
   "source": [
    "from UQpy.RunModel import *\n",
    "from UQpy.SampleMethods import STS, AKMCS\n",
    "from UQpy.Surrogates import Krig\n",
    "import time\n",
    "import os\n",
    "import pickle\n",
    "import glob\n",
    "import matplotlib.pyplot as plt\n",
    "import numpy as np\n",
    "import mpl_toolkits.mplot3d.art3d as art3d\n",
    "from matplotlib.colors import ListedColormap\n",
    "\n",
    "calling_directory = os.getcwd()\n",
    "t = time.time()"
   ]
  },
  {
   "cell_type": "markdown",
   "metadata": {},
   "source": [
    "## Building the model: "
   ]
  },
  {
   "cell_type": "markdown",
   "metadata": {},
   "source": [
    "There are two probabilistic input variables, the fire load density and the yield strength. The fire load density is denoted as 'qtd' and the yield strength is denoted as 'fy' in the template input script. These are different from the default variable names used by RunModel, and hence they must be passed in as one of the inputs while building the RunModel object."
   ]
  },
  {
   "cell_type": "code",
   "execution_count": 2,
   "metadata": {},
   "outputs": [],
   "source": [
    "var_names = ['qtd', 'fy']"
   ]
  },
  {
   "cell_type": "markdown",
   "metadata": {},
   "source": [
    "### Create the model object: "
   ]
  },
  {
   "cell_type": "code",
   "execution_count": 3,
   "metadata": {},
   "outputs": [
    {
     "name": "stdout",
     "output_type": "stream",
     "text": [
      "Example: Created the model object.\n"
     ]
    }
   ],
   "source": [
    "abaqus_sfe_model = RunModel(model_script='abaqus_fire_analysis.py', input_template='abaqus_input.py',\n",
    "                            output_script='extract_abaqus_output.py',\n",
    "                            var_names=var_names, ntasks=1, model_dir='SFE_Example', verbose=False)\n",
    "print('Example: Created the model object.')"
   ]
  },
  {
   "cell_type": "markdown",
   "metadata": {},
   "source": [
    "### Generate samples from UQpy STS class: "
   ]
  },
  {
   "cell_type": "markdown",
   "metadata": {},
   "source": [
    "The fire load density is assumed to be uniformly distributed between 50 MJ/m^2 and 450 MJ/m^2. The yield strength is assumed to be normally distributed, with the parameters being: mean = 250 MPa and coefficient of variation of 7%."
   ]
  },
  {
   "cell_type": "code",
   "execution_count": 4,
   "metadata": {},
   "outputs": [
    {
     "name": "stdout",
     "output_type": "stream",
     "text": [
      "UQpy: Successful execution of STS design..\n",
      "Example: Created the STS samples\n"
     ]
    }
   ],
   "source": [
    "x_sts = STS(dimension=2, dist_name=['uniform', 'normal'], dist_params=[[50, 400], [250e6, 17.5e6]], sts_design=[4, 4],\n",
    "            sts_criterion='random')\n",
    "\n",
    "print('Example: Created the STS samples')"
   ]
  },
  {
   "cell_type": "markdown",
   "metadata": {},
   "source": [
    "### Instantiate a UQpy Krig object: "
   ]
  },
  {
   "cell_type": "markdown",
   "metadata": {},
   "source": [
    "A Krig object is initiated with Linear regression model and Exponential correlation model. "
   ]
  },
  {
   "cell_type": "code",
   "execution_count": 5,
   "metadata": {},
   "outputs": [
    {
     "name": "stdout",
     "output_type": "stream",
     "text": [
      "Example: Created the Krig object.\n"
     ]
    }
   ],
   "source": [
    "metamodel = Krig(reg_model='Linear', corr_model='Exponential', n_opt=10, corr_model_params=np.ones(2))\n",
    "print('Example: Created the Krig object.')"
   ]
  },
  {
   "cell_type": "markdown",
   "metadata": {},
   "source": [
    "### Instantiate a UQpy AKMCS object: "
   ]
  },
  {
   "cell_type": "markdown",
   "metadata": {},
   "source": [
    "AKMCS class object is initiated using STS samples and RunModel, Krig objects. 100,000 MCS samples are generated and one sample is selected after each iteration using 'U'-function as learning criteria."
   ]
  },
  {
   "cell_type": "code",
   "execution_count": 6,
   "metadata": {},
   "outputs": [],
   "source": [
    "akmcs = AKMCS(run_model_object=abaqus_sfe_model, samples=x_sts.samples, krig_object=metamodel, nlearn=10**5, n_add=1,\n",
    "           lf='U', min_cov=0.05, dist_name=x_sts.dist_name, dist_params=x_sts.dist_params)"
   ]
  },
  {
   "cell_type": "markdown",
   "metadata": {},
   "source": [
    "AKMCS object is executed to generate 75 more samples using 'U'-function, such that number of total samples is 100."
   ]
  },
  {
   "cell_type": "code",
   "execution_count": 7,
   "metadata": {},
   "outputs": [],
   "source": [
    "akmcs.sample(nsamples=30)"
   ]
  },
  {
   "cell_type": "markdown",
   "metadata": {},
   "source": [
    "### Save the results: "
   ]
  },
  {
   "cell_type": "code",
   "execution_count": 8,
   "metadata": {},
   "outputs": [
    {
     "name": "stdout",
     "output_type": "stream",
     "text": [
      "Saved the results to AKMCS_results_000.pkl\n"
     ]
    }
   ],
   "source": [
    "# The output from each analysis is the difference between the maximum allowable displacement and the \n",
    "# maximum displacement of the midpoint of the beam.\n",
    "qois = abaqus_sfe_model.qoi_list\n",
    "\n",
    "# Save the samples and the qois in a dictionary called results with keys 'inputs' and 'outputs'\n",
    "results = {'inputs': akmcs.samples, 'outputs': qois, 'corr_params': akmcs.krig_object.corr_model_params,\n",
    "           'probability': akmcs.pf, 'population': akmcs.population.samples}\n",
    "\n",
    "# Pickle the results dictionary in the current directory. The basename and extension of the desired pickle file:\n",
    "res_basename = 'AKMCS_results'\n",
    "res_extension = '.pkl'\n",
    "\n",
    "# Create a new results file with a larger index than any existing results files with the same name in the current\n",
    "# directory.\n",
    "res_file_list = glob.glob(res_basename + '_???' + res_extension)\n",
    "if len(res_file_list) == 0:\n",
    "    res_file_name = res_basename + '_000' + res_extension\n",
    "else:\n",
    "    max_number = max(res_file_list).split('.')[0].split('_')[-1]\n",
    "    res_file_name = res_basename + '_%03d' % (int(max_number) + 1) + res_extension\n",
    "\n",
    "res_file_name_sts = os.path.join(calling_directory, res_file_name)\n",
    "# Save the results to this new file.\n",
    "with open(res_file_name_sts, 'wb') as f:\n",
    "    pickle.dump(results, f)\n",
    "print('Saved the results to ' + res_file_name)"
   ]
  },
  {
   "cell_type": "markdown",
   "metadata": {},
   "source": [
    "### Plotting the results: "
   ]
  },
  {
   "cell_type": "markdown",
   "metadata": {},
   "source": [
    "Results are loaded from the pickle dump. Krig method is used to evaluate structural fire model at the defined meshgrid."
   ]
  },
  {
   "cell_type": "code",
   "execution_count": 9,
   "metadata": {
    "scrolled": true
   },
   "outputs": [
    {
     "name": "stdout",
     "output_type": "stream",
     "text": [
      "UQpy: Performing Krig...\n",
      "Done!\n"
     ]
    }
   ],
   "source": [
    "os.chdir(calling_directory)\n",
    "# Load the results from the latest pickle dump.\n",
    "with open('AKMCS_results_000.pkl', 'rb') as f:\n",
    "    results = pickle.load(f)\n",
    "\n",
    "# Use the values loaded from pickle file.\n",
    "sample_points = results['inputs']\n",
    "qois = results['outputs']\n",
    "corr_p = results['corr_params']\n",
    "pf = results['probability']\n",
    "\n",
    "# Plot label font size\n",
    "fs = 18\n",
    "# Size of dots and cross in scatter plot\n",
    "ss = 250\n",
    "\n",
    "num, cov_yield = 250, 0.07\n",
    "x1 = np.linspace(50, 450, num)\n",
    "x2 = np.linspace((1-3*cov_yield)*250e6, (1+3*cov_yield)*250e6, num)\n",
    "x1g, x2g = np.meshgrid(x1, x2)\n",
    "x1gv, x2gv = x1g.reshape(x1g.size, 1), x2g.reshape(x2g.size, 1)\n",
    "\n",
    "# K = Krig(reg_model='Linear', corr_model='Exponential', n_opt=10, dimension=2)\n",
    "K = Krig(reg_model='Linear', corr_model='Exponential', n_opt=10, dimension=2, op=False, corr_model_params=corr_p)\n",
    "K.fit(samples=sample_points, values=np.atleast_2d(qois).T)\n",
    "\n",
    "y2 = K.interpolate(np.concatenate([x1gv, x2gv], 1)).reshape(x1g.shape[0], x1g.shape[1])\n",
    "\n",
    "nd = np.prod(x_sts.sts_design)\n",
    "S_initial0 = np.atleast_2d(sample_points[:nd, 0]).T\n",
    "S_initial1 = np.atleast_2d(sample_points[:nd, 1]).T/1e6\n",
    "Y_initial = np.atleast_2d(qois).T[:nd, :]\n",
    "\n",
    "S_final0 = np.atleast_2d(sample_points[nd:, 0]).T\n",
    "S_final1 = np.atleast_2d(sample_points[nd:, 1]).T/1e6\n",
    "Y_final = np.atleast_2d(qois).T[nd:, :]"
   ]
  },
  {
   "cell_type": "markdown",
   "metadata": {},
   "source": [
    "This plot shows the failure region and safe region in green and red color, respectively. Also, green dots/cross are the new samples generated using AKMSC class and black dots/cross are samples generated using STS class."
   ]
  },
  {
   "cell_type": "code",
   "execution_count": 10,
   "metadata": {},
   "outputs": [
    {
     "data": {
      "image/png": "[encoded data removed]",
      "text/plain": [
       "<Figure size 432x288 with 1 Axes>"
      ]
     },
     "metadata": {
      "needs_background": "light"
     },
     "output_type": "display_data"
    }
   ],
   "source": [
    "f1, ax1 = plt.subplots()\n",
    "cmap_light = ListedColormap(['#FFBBBB', '#BBFFBB'])\n",
    "cmap_bold = ListedColormap(['#CC0000', '#00AA00'])\n",
    "plt.pcolormesh(x1g, x2g/1e6, y2 > 0, cmap=cmap_light)\n",
    "#plt.scatter(sample_points[:, 0], sample_points[:, 1]/1e6, c=np.array(qois)>0, cmap=cmap_bold)\n",
    "plt.scatter(S_initial0[Y_initial <= 0], S_initial1[Y_initial<=0], color='Black', marker=\"x\", label='Failed initial samples', s=ss)\n",
    "plt.scatter(S_initial0[Y_initial>0], S_initial1[Y_initial>0], color='Black', marker=\"o\", label='Safe initial samples', s=ss)\n",
    "plt.scatter(S_final0[Y_final<=0], S_final1[Y_final<=0], color='Green', marker=\"x\", label='Failed new samples', s=ss)\n",
    "plt.scatter(S_final0[Y_final>0], S_final1[Y_final>0], color='Green', marker=\"o\", label='Safe new samples', s=ss)\n",
    "plt.xlabel('Fire load density', fontsize=fs+2)\n",
    "plt.ylabel('Yield strength (MPa)', fontsize=fs+2)\n",
    "plt.xlim(min(x1), max(x1))\n",
    "plt.ylim(min(x2)/1e6, max(x2)/1e6)\n",
    "plt.tick_params(axis='both', labelsize=fs, which='major')\n",
    "#plt.rc('axes', labelsize=20)\n",
    "#plt.rc('legend', fontsize=18)\n",
    "#ax1.set_position([box.x0, box.y0, box.width * 0.8, box.height])\n",
    "# plt.legend(handles=[ID1, ID2, ID3, ID4], bbox_to_anchor=(0., 1.26), loc='upper left', ncol=2, fontsize=fs)\n",
    "#plt.title(label='Number of STS samples: %1.0f' % nd + '  Number of total samples: %1.0f' % len(qois))\n",
    "plt.show()"
   ]
  },
  {
   "cell_type": "markdown",
   "metadata": {},
   "source": [
    "The plot shows the estimate of probability of failure after generating a sample from AKMCS class."
   ]
  },
  {
   "cell_type": "code",
   "execution_count": 11,
   "metadata": {},
   "outputs": [
    {
     "data": {
      "image/png": "[encoded data removed]",
      "text/plain": [
       "<Figure size 432x288 with 1 Axes>"
      ]
     },
     "metadata": {
      "needs_background": "light"
     },
     "output_type": "display_data"
    }
   ],
   "source": [
    "## MCS result (10000 samples): probability of failure = 0.033\n",
    "PF = 0.033\n",
    "plt.figure()\n",
    "ax = plt.axes()\n",
    "plt.plot(np.arange(nd+1, len(qois)+1), pf, label='AKMCS results')\n",
    "plt.xlabel('Number of samples', fontsize=fs+2)\n",
    "plt.ylabel('Probability of failure', fontsize=fs+2)\n",
    "# ax.tick_params(axis='both', labelsize=fs, which='major')\n",
    "xyc = (len(sample_points), pf[-1])\n",
    "ax.annotate('(%s, %0.4f)' % xyc, xy=xyc, fontsize=fs-2, horizontalalignment='center', verticalalignment='bottom')\n",
    "plt.scatter(len(sample_points), pf[-1], marker=\"o\" )\n",
    "ax.axhline(y=PF,color='r', linestyle='--')\n",
    "plt.rc('legend', fontsize=fs)\n",
    "plt.legend()\n",
    "plt.show()"
   ]
  },
  {
   "cell_type": "code",
   "execution_count": 12,
   "metadata": {},
   "outputs": [
    {
     "name": "stdout",
     "output_type": "stream",
     "text": [
      "Example: Done!\n",
      "Time elapsed: 17.87 minutes\n"
     ]
    }
   ],
   "source": [
    "print('Example: Done!')\n",
    "print('Time elapsed: %.2f minutes' % float((time.time() - t) / 60.0))"
   ]
  },
  {
   "cell_type": "code",
   "execution_count": null,
   "metadata": {},
   "outputs": [],
   "source": []
  }
 ],
 "metadata": {
  "kernelspec": {
   "display_name": "Python 3",
   "language": "python",
   "name": "python3"
  },
  "language_info": {
   "codemirror_mode": {
    "name": "ipython",
    "version": 3
   },
   "file_extension": ".py",
   "mimetype": "text/x-python",
   "name": "python",
   "nbconvert_exporter": "python",
   "pygments_lexer": "ipython3",
   "version": "3.7.2rc1"
  }
 },
 "nbformat": 4,
 "nbformat_minor": 4
}
