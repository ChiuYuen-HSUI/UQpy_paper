{
 "cells": [
  {
   "cell_type": "markdown",
   "metadata": {},
   "source": [
    "# Third-party software computation model example"
   ]
  },
  {
   "cell_type": "markdown",
   "metadata": {},
   "source": [
    "## Introduction"
   ]
  },
  {
   "cell_type": "markdown",
   "metadata": {},
   "source": [
    "This example file demonstrates how to build a RunModel object which enables UQpy to execute models in third-party software. The files necessary to run this example are:\n",
    "1. The input template - 'abaqus_input.py'\n",
    "2. The model script - 'abaqus_fire_analysis.py'\n",
    "3. The output script - 'extract_abaqus_output.py'\n",
    "4. The script used by the output script - 'abaqus_output_script.py'\n",
    "\n",
    "Note: To execute the example in this notebook, it is necessary to have access to the finite element solver Abaqus. "
   ]
  },
  {
   "cell_type": "markdown",
   "metadata": {},
   "source": [
    "## Description of the model"
   ]
  },
  {
   "cell_type": "markdown",
   "metadata": {},
   "source": [
    "This example builds and analyzes a finite element model of a beam bearing uniformly distributed load, which is then subjected to fire load.  "
   ]
  },
  {
   "cell_type": "markdown",
   "metadata": {},
   "source": [
    "## The script:"
   ]
  },
  {
   "cell_type": "markdown",
   "metadata": {},
   "source": [
    "Import the python modules used in this example, note down the start time and the current directory, which will be used later to save the results."
   ]
  },
  {
   "cell_type": "code",
   "execution_count": 1,
   "metadata": {},
   "outputs": [],
   "source": [
    "from UQpy.RunModel import *\n",
    "from UQpy.SampleMethods import STS, MCS\n",
    "import time\n",
    "import os\n",
    "import pickle\n",
    "import glob\n",
    "import matplotlib.pyplot as plt\n",
    "import numpy as np\n",
    "import mpl_toolkits.mplot3d.art3d as art3d\n",
    "\n",
    "calling_directory = os.getcwd()\n",
    "t = time.time()"
   ]
  },
  {
   "cell_type": "markdown",
   "metadata": {},
   "source": [
    "### Building the model:"
   ]
  },
  {
   "cell_type": "markdown",
   "metadata": {},
   "source": [
    "There are two probabilistic input variables, the fire load density and the yield strength. The fire load density is denoted as 'qtd' and the yield strength is denoted as 'fy' in the template input script. These are different from the default variable names used by RunModel, and hence they must be passed in as one of the inputs while building the RunModel object."
   ]
  },
  {
   "cell_type": "code",
   "execution_count": 2,
   "metadata": {},
   "outputs": [],
   "source": [
    "var_names = ['qtd', 'fy']"
   ]
  },
  {
   "cell_type": "markdown",
   "metadata": {},
   "source": [
    "#### Create the model object"
   ]
  },
  {
   "cell_type": "code",
   "execution_count": 3,
   "metadata": {},
   "outputs": [
    {
     "name": "stdout",
     "output_type": "stream",
     "text": [
      "No samples. Creating the object alone.\n",
      "Example: Created the model object.\n"
     ]
    }
   ],
   "source": [
    "abaqus_sfe_model = RunModel(model_script='abaqus_fire_analysis.py', input_template='abaqus_input.py',\n",
    "                            output_script='extract_abaqus_output.py',\n",
    "                            var_names=var_names, ntasks=1, model_dir='SFE_Example', verbose=True)\n",
    "print('Example: Created the model object.')"
   ]
  },
  {
   "cell_type": "markdown",
   "metadata": {},
   "source": [
    "### Drawing samples"
   ]
  },
  {
   "cell_type": "markdown",
   "metadata": {},
   "source": [
    "The fire load density is assumed to be uniformly distributed between 50 MJ/m^2 and 450 MJ/m^2. The yield strength is assumed to be normally distributed, with the parameters being: mean = 250 MPa and coefficient of variation of 7%."
   ]
  },
  {
   "cell_type": "markdown",
   "metadata": {},
   "source": [
    "### Using MCS class in UQpy for simple random sampling"
   ]
  },
  {
   "cell_type": "code",
   "execution_count": 4,
   "metadata": {},
   "outputs": [
    {
     "name": "stdout",
     "output_type": "stream",
     "text": [
      "Example: Created MCS samples. They are:\n",
      "[[2.98568723e+02 2.37266422e+08]\n",
      " [1.55029202e+02 2.43385158e+08]\n",
      " [3.70639812e+02 2.53592931e+08]\n",
      " [4.13169187e+02 2.61642442e+08]\n",
      " [3.89302949e+02 2.66134288e+08]\n",
      " [1.55966694e+02 2.41909445e+08]\n",
      " [2.18362692e+02 2.70012850e+08]\n",
      " [1.43937919e+02 2.37308463e+08]\n",
      " [3.20061161e+02 2.74949536e+08]\n",
      " [1.15387220e+02 2.69384787e+08]]\n"
     ]
    }
   ],
   "source": [
    "# Creating samples using MCS\n",
    "x_mcs = MCS(dist_name=['uniform', 'normal'], dist_params=[[50, 400], \n",
    "            [2.50e8, 1.75e7]], nsamples=10)\n",
    "print('Example: Created MCS samples. They are:')\n",
    "print(x_mcs.samples)# Running simulations using the previously defined model object and samples"
   ]
  },
  {
   "cell_type": "markdown",
   "metadata": {},
   "source": [
    "### Propagating MCS inputs through the model"
   ]
  },
  {
   "cell_type": "code",
   "execution_count": 5,
   "metadata": {},
   "outputs": [
    {
     "name": "stdout",
     "output_type": "stream",
     "text": [
      "The output function that will be run: extract_disp_temp_output\n",
      "\n",
      "Performing serial execution of the model with template input.\n",
      "\n",
      "Found 1 instance of variable: 'qtd' in the input file.\n",
      "Found 1 instance of variable: 'fy' in the input file.\n",
      "Out:  0\n",
      "Example: Successful output extraction.\n",
      "Out:  0\n",
      "Example: Successful output extraction.\n",
      "Out:  0\n",
      "Example: Successful output extraction.\n",
      "Out:  0\n",
      "Example: Successful output extraction.\n",
      "Out:  0\n",
      "Example: Successful output extraction.\n",
      "Out:  0\n",
      "Example: Successful output extraction.\n",
      "Out:  0\n",
      "Example: Successful output extraction.\n",
      "Out:  0\n",
      "Example: Successful output extraction.\n",
      "Out:  0\n",
      "Example: Successful output extraction.\n",
      "Out:  0\n",
      "Example: Successful output extraction.\n"
     ]
    }
   ],
   "source": [
    "sample_points = x_mcs.samples\n",
    "abaqus_sfe_model.run(samples=sample_points)"
   ]
  },
  {
   "cell_type": "markdown",
   "metadata": {},
   "source": [
    "### Saving the MCS results"
   ]
  },
  {
   "cell_type": "code",
   "execution_count": 6,
   "metadata": {},
   "outputs": [
    {
     "name": "stdout",
     "output_type": "stream",
     "text": [
      "Saved the results to C:\\Users\\Aakash\\Documents\\UQpy_paper-master\\SampleMethods\\Abaqus-Sampling\\MCS_results_000.pkl\n"
     ]
    }
   ],
   "source": [
    "# The output from each analysis is the difference between the maximum allowable displacement and the \n",
    "# maximum displacement of the midpoint of the beam.\n",
    "qois = abaqus_sfe_model.qoi_list\n",
    "\n",
    "# Save the samples and the qois in a dictionary called results with keys 'inputs' and 'outputs'\n",
    "results = {'inputs': sample_points, 'outputs': qois}\n",
    "\n",
    "# Pickle the results dictionary in the current directory. The basename and extension of the desired pickle file:\n",
    "res_basename = 'MCS_results'\n",
    "res_extension = '.pkl'\n",
    "\n",
    "# Create a new results file with a larger index than any existing results files with the same name in the current\n",
    "# directory.\n",
    "res_file_list = glob.glob(res_basename + '_???' + res_extension)\n",
    "if len(res_file_list) == 0:\n",
    "    res_file_name = res_basename + '_000' + res_extension\n",
    "else:\n",
    "    max_number = max(res_file_list).split('.')[0].split('_')[-1]\n",
    "    res_file_name = res_basename + '_%03d' % (int(max_number) + 1) + res_extension\n",
    "\n",
    "res_file_name = os.path.join(calling_directory, res_file_name)\n",
    "# Save the results to this new file.\n",
    "with open(res_file_name, 'wb') as f:\n",
    "    pickle.dump(results, f)\n",
    "print('Saved the results to ' + res_file_name)"
   ]
  },
  {
   "cell_type": "markdown",
   "metadata": {},
   "source": [
    "### Plotting the results"
   ]
  },
  {
   "cell_type": "code",
   "execution_count": 7,
   "metadata": {},
   "outputs": [
    {
     "data": {
      "image/png": "[encoded data removed]",
      "text/plain": [
       "<Figure size 432x288 with 1 Axes>"
      ]
     },
     "metadata": {},
     "output_type": "display_data"
    },
    {
     "name": "stdout",
     "output_type": "stream",
     "text": [
      "Probability of failure using 10 samples:  0.000000\n"
     ]
    }
   ],
   "source": [
    "# Load the results from the latest pickle dump.\n",
    "with open(res_file_name, 'rb') as f:\n",
    "    results = pickle.load(f)\n",
    "\n",
    "# Use the values loaded from pickle file.\n",
    "sample_points = results['inputs']\n",
    "Y = np.array(results['outputs'])\n",
    "\n",
    "x = sample_points[:, 0]\n",
    "y = sample_points[:, 1]\n",
    "\n",
    "# 2D plot showing success or failure\n",
    "fig = plt.figure()\n",
    "ax = fig.add_subplot(111)\n",
    "p3 = ax.scatter(x[Y < 0], y[Y < 0], color='Red', label='Failed')\n",
    "p4 = ax.scatter(x[Y >= 0], y[Y >= 0], color='Blue', label='Did not fail')\n",
    "ax.set_xlabel('Fire load density')\n",
    "ax.set_ylabel('Yield strength (MPa)')\n",
    "plt.legend()\n",
    "plt.show()\n",
    "    \n",
    "# Compute probability of failure\n",
    "probability_of_failure = len(Y[Y < 0])/len(Y)\n",
    "print('Probability of failure using %d samples: % 0.6f' % (len(Y), probability_of_failure))"
   ]
  },
  {
   "cell_type": "code",
   "execution_count": 8,
   "metadata": {},
   "outputs": [
    {
     "name": "stdout",
     "output_type": "stream",
     "text": [
      "Example: Done!\n",
      "Time elapsed: 7.20 minutes\n"
     ]
    }
   ],
   "source": [
    "print('Example: Done!')\n",
    "print('Time elapsed: %.2f minutes' % float((time.time() - t) / 60.0))"
   ]
  },
  {
   "cell_type": "code",
   "execution_count": null,
   "metadata": {},
   "outputs": [],
   "source": []
  }
 ],
 "metadata": {
  "kernelspec": {
   "display_name": "Python 3",
   "language": "python",
   "name": "python3"
  },
  "language_info": {
   "codemirror_mode": {
    "name": "ipython",
    "version": 3
   },
   "file_extension": ".py",
   "mimetype": "text/x-python",
   "name": "python",
   "nbconvert_exporter": "python",
   "pygments_lexer": "ipython3",
   "version": "3.6.4"
  }
 },
 "nbformat": 4,
 "nbformat_minor": 2
}
