{
 "cells": [
  {
   "cell_type": "markdown",
   "metadata": {},
   "source": [
    "# Third-party software computation model example"
   ]
  },
  {
   "cell_type": "markdown",
   "metadata": {},
   "source": [
    "## Introduction"
   ]
  },
  {
   "cell_type": "markdown",
   "metadata": {},
   "source": [
    "This example file demonstrates how to build a RunModel object which enables UQpy to execute models in third-party software. The files necessary to run this example are:\n",
    "1. The input template - 'abaqus_input.py'\n",
    "2. The model script - 'abaqus_fire_analysis.py'\n",
    "3. The output script - 'extract_abaqus_output.py'\n",
    "4. The script used by the output script - 'abaqus_output_script.py'\n",
    "\n",
    "Note: To execute the example in this notebook, it is necessary to have access to the finite element solver Abaqus. "
   ]
  },
  {
   "cell_type": "markdown",
   "metadata": {},
   "source": [
    "## Description of the model"
   ]
  },
  {
   "cell_type": "markdown",
   "metadata": {},
   "source": [
    "This example builds and analyzes a finite element model of a beam bearing uniformly distributed load, which is then subjected to fire load.  "
   ]
  },
  {
   "cell_type": "markdown",
   "metadata": {},
   "source": [
    "## The script:"
   ]
  },
  {
   "cell_type": "markdown",
   "metadata": {},
   "source": [
    "Import the python modules used in this example, note down the start time and the current directory, which will be used later to save the results."
   ]
  },
  {
   "cell_type": "code",
   "execution_count": 1,
   "metadata": {},
   "outputs": [],
   "source": [
    "from UQpy.RunModel import *\n",
    "from UQpy.SampleMethods import STS, MCS\n",
    "import time\n",
    "import os\n",
    "import pickle\n",
    "import glob\n",
    "import matplotlib.pyplot as plt\n",
    "import numpy as np\n",
    "import mpl_toolkits.mplot3d.art3d as art3d\n",
    "\n",
    "calling_directory = os.getcwd()\n",
    "t = time.time()"
   ]
  },
  {
   "cell_type": "markdown",
   "metadata": {},
   "source": [
    "### Building the model:"
   ]
  },
  {
   "cell_type": "markdown",
   "metadata": {},
   "source": [
    "There are two probabilistic input variables, the fire load density and the yield strength. The fire load density is denoted as 'qtd' and the yield strength is denoted as 'fy' in the template input script. These are different from the default variable names used by RunModel, and hence they must be passed in as one of the inputs while building the RunModel object."
   ]
  },
  {
   "cell_type": "code",
   "execution_count": 2,
   "metadata": {},
   "outputs": [],
   "source": [
    "var_names = ['qtd', 'fy']"
   ]
  },
  {
   "cell_type": "markdown",
   "metadata": {},
   "source": [
    "#### Create the model object"
   ]
  },
  {
   "cell_type": "code",
   "execution_count": 3,
   "metadata": {},
   "outputs": [
    {
     "name": "stdout",
     "output_type": "stream",
     "text": [
      "No samples. Creating the object alone.\n",
      "Example: Created the model object.\n"
     ]
    }
   ],
   "source": [
    "abaqus_sfe_model = RunModel(model_script='abaqus_fire_analysis.py', input_template='abaqus_input.py',\n",
    "                            output_script='extract_abaqus_output.py',\n",
    "                            var_names=var_names, ntasks=1, model_dir='SFE_Example', verbose=True)\n",
    "print('Example: Created the model object.')"
   ]
  },
  {
   "cell_type": "markdown",
   "metadata": {},
   "source": [
    "### Drawing samples"
   ]
  },
  {
   "cell_type": "markdown",
   "metadata": {},
   "source": [
    "The fire load density is assumed to be uniformly distributed between 50 MJ/m^2 and 450 MJ/m^2. The yield strength is assumed to be normally distributed, with the parameters being: mean = 250 MPa and coefficient of variation of 7%."
   ]
  },
  {
   "cell_type": "markdown",
   "metadata": {},
   "source": [
    "### Using STS class in UQpy for stratified sampling"
   ]
  },
  {
   "cell_type": "code",
   "execution_count": 4,
   "metadata": {},
   "outputs": [
    {
     "name": "stdout",
     "output_type": "stream",
     "text": [
      "UQpy: Successful execution of STS design..\n",
      "Example: Created STS samples. They are:\n",
      "[[1.6885362e+02 2.2757470e+08]\n",
      " [2.3755539e+02 2.3517760e+08]\n",
      " [3.2149435e+02 2.2458152e+08]\n",
      " [1.6428781e+02 2.4476018e+08]\n",
      " [2.2197351e+02 2.5589282e+08]\n",
      " [3.6547186e+02 2.5089678e+08]\n",
      " [6.6484016e+01 2.6380400e+08]\n",
      " [3.0260873e+02 2.5992072e+08]\n",
      " [3.9461053e+02 2.5827251e+08]]\n"
     ]
    }
   ],
   "source": [
    "# Creating samples using STS\n",
    "x_sts = STS(dimension=2, dist_name=['uniform', 'normal'], \n",
    "            dist_params=[[50, 400], [2.50e8, 1.75e7]], \n",
    "            sts_design=[3, 3], sts_criterion='random')\n",
    "\n",
    "print('Example: Created STS samples. They are:')\n",
    "print(x_sts.samples)"
   ]
  },
  {
   "cell_type": "markdown",
   "metadata": {},
   "source": [
    "### Executing the model with inputs from STS"
   ]
  },
  {
   "cell_type": "code",
   "execution_count": 5,
   "metadata": {},
   "outputs": [
    {
     "name": "stdout",
     "output_type": "stream",
     "text": [
      "The output function that will be run: extract_disp_temp_output\n",
      "\n",
      "Performing serial execution of the model with template input.\n",
      "\n",
      "Found 1 instance of variable: 'qtd' in the input file.\n",
      "Found 1 instance of variable: 'fy' in the input file.\n",
      "Out:  0\n",
      "Example: Successful output extraction.\n",
      "Out:  0\n",
      "Example: Successful output extraction.\n",
      "Out:  0\n",
      "Example: Successful output extraction.\n",
      "Out:  0\n",
      "Example: Successful output extraction.\n",
      "Out:  0\n",
      "Example: Successful output extraction.\n",
      "Out:  0\n",
      "Example: Successful output extraction.\n",
      "Out:  0\n",
      "Example: Successful output extraction.\n",
      "Out:  0\n",
      "Example: Successful output extraction.\n",
      "Out:  0\n",
      "Example: Successful output extraction.\n"
     ]
    }
   ],
   "source": [
    "# Running simulations using the previously defined model object and samples\n",
    "sample_points = x_sts.samples\n",
    "abaqus_sfe_model.run(samples=sample_points)"
   ]
  },
  {
   "cell_type": "markdown",
   "metadata": {},
   "source": [
    "### Saving the STS results"
   ]
  },
  {
   "cell_type": "code",
   "execution_count": 6,
   "metadata": {},
   "outputs": [
    {
     "name": "stdout",
     "output_type": "stream",
     "text": [
      "Saved the results to STS_results_000.pkl\n"
     ]
    }
   ],
   "source": [
    "# The output from each analysis is the difference between the maximum allowable displacement and the \n",
    "# maximum displacement of the midpoint of the beam.\n",
    "qois = abaqus_sfe_model.qoi_list\n",
    "\n",
    "# Save the samples and the qois in a dictionary called results with keys 'inputs' and 'outputs'\n",
    "results = {'inputs': sample_points, 'outputs': qois}\n",
    "\n",
    "# Pickle the results dictionary in the current directory. The basename and extension of the desired pickle file:\n",
    "res_basename = 'STS_results'\n",
    "res_extension = '.pkl'\n",
    "\n",
    "# Create a new results file with a larger index than any existing results files with the same name in the current\n",
    "# directory.\n",
    "res_file_list = glob.glob(res_basename + '_???' + res_extension)\n",
    "if len(res_file_list) == 0:\n",
    "    res_file_name = res_basename + '_000' + res_extension\n",
    "else:\n",
    "    max_number = max(res_file_list).split('.')[0].split('_')[-1]\n",
    "    res_file_name = res_basename + '_%03d' % (int(max_number) + 1) + res_extension\n",
    "\n",
    "res_file_name_sts = os.path.join(calling_directory, res_file_name)\n",
    "# Save the results to this new file.\n",
    "with open(res_file_name_sts, 'wb') as f:\n",
    "    pickle.dump(results, f)\n",
    "print('Saved the results to ' + res_file_name)"
   ]
  },
  {
   "cell_type": "markdown",
   "metadata": {},
   "source": [
    "### Plotting the results"
   ]
  },
  {
   "cell_type": "code",
   "execution_count": 7,
   "metadata": {},
   "outputs": [
    {
     "name": "stdout",
     "output_type": "stream",
     "text": [
      "[0.06859357 0.05138957 0.02644857 0.06861457 0.06780357 0.01795657\n",
      " 0.07053857 0.03713457 0.01112757]\n"
     ]
    },
    {
     "data": {
      "image/png": "[encoded data removed]",
      "text/plain": [
       "<Figure size 432x288 with 1 Axes>"
      ]
     },
     "metadata": {},
     "output_type": "display_data"
    },
    {
     "name": "stdout",
     "output_type": "stream",
     "text": [
      "Probability of failure using 9 samples:  0.000000\n"
     ]
    }
   ],
   "source": [
    "# Load the results from the latest pickle dump.\n",
    "with open(res_file_name_sts, 'rb') as f:\n",
    "    results = pickle.load(f)\n",
    "\n",
    "# Use the values loaded from pickle file.\n",
    "sample_points = results['inputs']\n",
    "Y = np.array(results['outputs'])\n",
    "print(Y)\n",
    "\n",
    "x = sample_points[:, 0]\n",
    "y = sample_points[:, 1]\n",
    "\n",
    "# 2D plot showing success or failure\n",
    "fig = plt.figure()\n",
    "ax = fig.add_subplot(111)\n",
    "p3 = ax.scatter(x[Y < 0], y[Y < 0], color='Red', label='Failed')\n",
    "p4 = ax.scatter(x[Y >= 0], y[Y >= 0], color='Blue', label='Did not fail')\n",
    "ax.set_xlabel('Fire load density')\n",
    "ax.set_ylabel('Yield strength (MPa)')\n",
    "plt.legend()\n",
    "plt.show()\n",
    "    \n",
    "# Compute probability of failure\n",
    "probability_of_failure = len(Y[Y < 0])/len(Y)\n",
    "print('Probability of failure using %d samples: % 0.6f' % (len(Y), probability_of_failure))"
   ]
  },
  {
   "cell_type": "code",
   "execution_count": 8,
   "metadata": {},
   "outputs": [
    {
     "name": "stdout",
     "output_type": "stream",
     "text": [
      "Example: Done!\n",
      "Time elapsed: 5.92 minutes\n"
     ]
    }
   ],
   "source": [
    "print('Example: Done!')\n",
    "print('Time elapsed: %.2f minutes' % float((time.time() - t) / 60.0))"
   ]
  },
  {
   "cell_type": "code",
   "execution_count": null,
   "metadata": {},
   "outputs": [],
   "source": []
  }
 ],
 "metadata": {
  "kernelspec": {
   "display_name": "Python 3",
   "language": "python",
   "name": "python3"
  },
  "language_info": {
   "codemirror_mode": {
    "name": "ipython",
    "version": 3
   },
   "file_extension": ".py",
   "mimetype": "text/x-python",
   "name": "python",
   "nbconvert_exporter": "python",
   "pygments_lexer": "ipython3",
   "version": "3.6.4"
  }
 },
 "nbformat": 4,
 "nbformat_minor": 2
}
