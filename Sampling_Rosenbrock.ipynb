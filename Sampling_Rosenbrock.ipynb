{
 "cells": [
  {
   "cell_type": "markdown",
   "metadata": {},
   "source": [
    "## Illustrations of Distribution module and MCMC class\n",
    "\n",
    "This notebook illustrates capabilities of the Distribution and SampleMethods module, in particular its MCMC class, using a simple 2-dimensional Rosenbrock function."
   ]
  },
  {
   "cell_type": "code",
   "execution_count": 2,
   "metadata": {},
   "outputs": [],
   "source": [
    "# Basic imports\n",
    "import numpy as np\n",
    "import matplotlib.pyplot as plt"
   ]
  },
  {
   "cell_type": "markdown",
   "metadata": {},
   "source": [
    "## Capabilities of the Distribution class\n",
    "\n",
    "The Distribution class allows the user to define Distribution objects. Many other classes in UQpy will rely on those objects and their various methods. UQpy supports a certain number of univariate distributions (from the scipy package), as well as multivariate distributions defined via their marginals and (potentially) a copula.\n",
    "\n",
    "The following lines of code instantiate p1 as a univariate lognormal distribution, p2 as a multivariate distribution with gaussian marginals and a Gumbel copula. The probability function of these functions can then be evaluated by calling their pdf method. Parameters of the distribution are provided to the pdf method as lists. Points x where to evaluate the density function must be provided as a 2D ndarray of shape (npoints, dimension)."
   ]
  },
  {
   "cell_type": "code",
   "execution_count": 4,
   "metadata": {},
   "outputs": [],
   "source": [
    "from UQpy.Distributions import Distribution\n",
    "p1 = Distribution(dist_name='lognormal')\n",
    "p2 = Distribution(dist_name='lognormal', copula='Gumbel')"
   ]
  },
  {
   "cell_type": "code",
   "execution_count": null,
   "metadata": {},
   "outputs": [],
   "source": [
    "fig, ax = plt.subplots(ncols=2, figsize=(12, 3.5))\n"
   ]
  },
  {
   "cell_type": "code",
   "execution_count": null,
   "metadata": {},
   "outputs": [],
   "source": [
    "Alternatively, one can also define a user-defined distribution by providing a python script."
   ]
  },
  {
   "cell_type": "markdown",
   "metadata": {},
   "source": [
    "## MCMC algorithm"
   ]
  },
  {
   "cell_type": "code",
   "execution_count": null,
   "metadata": {},
   "outputs": [],
   "source": []
  }
 ],
 "metadata": {
  "kernelspec": {
   "display_name": "Python 3",
   "language": "python",
   "name": "python3"
  },
  "language_info": {
   "codemirror_mode": {
    "name": "ipython",
    "version": 3
   },
   "file_extension": ".py",
   "mimetype": "text/x-python",
   "name": "python",
   "nbconvert_exporter": "python",
   "pygments_lexer": "ipython3",
   "version": "3.6.5"
  }
 },
 "nbformat": 4,
 "nbformat_minor": 2
}
