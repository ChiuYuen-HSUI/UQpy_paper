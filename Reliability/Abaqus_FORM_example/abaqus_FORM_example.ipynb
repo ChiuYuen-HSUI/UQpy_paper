{
 "cells": [
  {
   "cell_type": "markdown",
   "metadata": {},
   "source": [
    "# Third-party software computation model example"
   ]
  },
  {
   "cell_type": "markdown",
   "metadata": {},
   "source": [
    "## Introduction"
   ]
  },
  {
   "cell_type": "markdown",
   "metadata": {},
   "source": [
    "This example file demonstrates how to build a RunModel object which enables UQpy to execute models in third-party software. The files necessary to run this example are:\n",
    "1. The input template - 'abaqus_input.py'\n",
    "2. The model script - 'abaqus_fire_analysis.py'\n",
    "3. The output script - 'extract_abaqus_output.py'\n",
    "4. The script used by the output script - 'abaqus_output_script.py'\n",
    "\n",
    "Note: To execute the example in this notebook, it is necessary to have access to the finite element solver Abaqus. "
   ]
  },
  {
   "cell_type": "markdown",
   "metadata": {},
   "source": [
    "## Description of the model"
   ]
  },
  {
   "cell_type": "markdown",
   "metadata": {},
   "source": [
    "This example builds and analyzes a finite element model of a beam bearing uniformly distributed load, which is then subjected to fire load.  "
   ]
  },
  {
   "cell_type": "markdown",
   "metadata": {},
   "source": [
    "## The script:"
   ]
  },
  {
   "cell_type": "markdown",
   "metadata": {},
   "source": [
    "Import the python modules used in this example, note down the start time and the current directory, which will be used later to save the results."
   ]
  },
  {
   "cell_type": "code",
   "execution_count": null,
   "metadata": {},
   "outputs": [],
   "source": [
    "from UQpy.RunModel import *\n",
    "from UQpy.Reliability import FORM\n",
    "from UQpy.Distributions import Normal, Uniform\n",
    "import time\n",
    "import os\n",
    "import pickle\n",
    "import glob\n",
    "import matplotlib.pyplot as plt\n",
    "import numpy as np\n",
    "\n",
    "calling_directory = os.getcwd()\n",
    "t = time.time()"
   ]
  },
  {
   "cell_type": "markdown",
   "metadata": {},
   "source": [
    "### Building the model:"
   ]
  },
  {
   "cell_type": "markdown",
   "metadata": {},
   "source": [
    "There are two probabilistic input variables, the fire load density and the yield strength. The fire load density is denoted as 'qtd' and the yield strength is denoted as 'fy' in the template input script. These are different from the default variable names used by RunModel, and hence they must be passed in as one of the inputs while building the RunModel object."
   ]
  },
  {
   "cell_type": "code",
   "execution_count": null,
   "metadata": {},
   "outputs": [],
   "source": [
    "var_names = ['qtd', 'fy']"
   ]
  },
  {
   "cell_type": "markdown",
   "metadata": {},
   "source": [
    "#### Create the model object"
   ]
  },
  {
   "cell_type": "code",
   "execution_count": null,
   "metadata": {},
   "outputs": [],
   "source": [
    "abaqus_sfe_model = RunModel(model_script='abaqus_fire_analysis.py', input_template='abaqus_input.py',\n",
    "                            output_script='extract_abaqus_output.py',\n",
    "                            var_names=var_names, ntasks=1, model_dir='SFE_Example', verbose=True)\n",
    "print('Example: Created the model object.')"
   ]
  },
  {
   "cell_type": "markdown",
   "metadata": {},
   "source": [
    "### Instantiate a UQpy TaylorSeries object "
   ]
  },
  {
   "cell_type": "markdown",
   "metadata": {},
   "source": [
    "The fire load density is assumed to be uniformly distributed between $50 MJ/m^2$ and $450 MJ/m^2$. The yield strength is assumed to be normally distributed, with the parameters being: $\\mu = 250MPa$ and coefficient of variation of $c.o.v =7\\%$."
   ]
  },
  {
   "cell_type": "code",
   "execution_count": null,
   "metadata": {},
   "outputs": [],
   "source": [
    "dist1 = Uniform(loc=50, scale=400)\n",
    "dist2 = Normal(loc=250e6, scale=17.5e6)\n",
    "\n",
    "Q = FORM(dist_object=[dist1,dist2], runmdel_object=abaqus_sfe_model, n_iter=100)\n",
    "Q.run(seed_u=np.array([1.0, 1.0]))"
   ]
  },
  {
   "cell_type": "markdown",
   "metadata": {},
   "source": [
    "### Print the results"
   ]
  },
  {
   "cell_type": "code",
   "execution_count": null,
   "metadata": {},
   "outputs": [],
   "source": [
    "print('Design point in standard normal space: %s' % Q.DesignPoint_U)\n",
    "print('Design point in original space: %s' % Q.DesignPoint_X)\n",
    "print('Hasofer-Lind reliability index: %s' % Q.beta_form)\n",
    "print('FORM probability of failure: %s' % Q.Pf_form)"
   ]
  },
  {
   "cell_type": "markdown",
   "metadata": {},
   "source": [
    "### Save the results"
   ]
  },
  {
   "cell_type": "code",
   "execution_count": null,
   "metadata": {},
   "outputs": [],
   "source": [
    "results = {'outputs': [Q.DesignPoint_U, Q.DesignPoint_X, Q.beta_form, Q.Pf_form, Q.form_iterations,\n",
    "                       Q.g_record, Q.dg_u_record, Q.x_record, Q.u_record, Q.alpha_record]}\n",
    "\n",
    "# Pickle the results dictionary in the current directory. The basename and extension of the desired pickle file:\n",
    "res_basename = 'FORM_results'\n",
    "res_extension = '.pkl'\n",
    "\n",
    "# Create a new results file with a larger index than any existing results files with the same name in the current\n",
    "# directory.\n",
    "res_file_list = glob.glob(res_basename + '_???' + res_extension)\n",
    "if len(res_file_list) == 0:\n",
    "    res_file_name = res_basename + '_000' + res_extension\n",
    "else:\n",
    "    max_number = max(res_file_list).split('.')[0].split('_')[-1]\n",
    "    res_file_name = res_basename + '_%03d' % (int(max_number) + 1) + res_extension\n",
    "\n",
    "res_file_name = os.path.join(calling_directory, res_file_name)\n",
    "# Save the results to this new file.\n",
    "with open(res_file_name, 'wb') as f:\n",
    "    pickle.dump(results, f)\n",
    "print('Saved the results to ' + res_file_name)\n",
    "\n",
    "\n",
    "print('Example: Done!')\n",
    "print('Time elapsed: %.2f minutes' % float((time.time() - t) / 60.0))"
   ]
  },
  {
   "cell_type": "code",
   "execution_count": null,
   "metadata": {},
   "outputs": [],
   "source": [
    "# Supporting function\n",
    "def multivariate_gaussian(pos, mu, Sigma):\n",
    "    n = mu.shape[0]\n",
    "    Sigma_det = np.linalg.det(Sigma)\n",
    "    Sigma_inv = np.linalg.inv(Sigma)\n",
    "    N = np.sqrt((2*np.pi)**n * Sigma_det)\n",
    "    fac = np.einsum('...k,kl,...l->...', pos-mu, Sigma_inv, pos-mu)\n",
    "    return np.exp(-fac / 2) / N\n",
    "\n",
    "# Supporting function\n",
    "def multivariate(xi, yi, N):\n",
    "    Z0 = np.zeros(N)\n",
    "    Z1 = np.zeros(N)\n",
    "    Z = np.zeros(shape=(N, N))\n",
    "    \n",
    "    x = np.zeros(N)\n",
    "    y = np.zeros(N)\n",
    "    for j1 in range(N):\n",
    "        x[j1] = dist1.pdf(xi[j1].reshape(1, -1))\n",
    "        y[j1] = dist2.pdf(yi[j1].reshape(1, -1))\n",
    "        \n",
    "    for i1 in range(N):\n",
    "            Z0[i1] = x[i1]\n",
    "            Z1[i1] = y[i1]  \n",
    "    \n",
    "    for j1 in range(N):\n",
    "        for j2 in range(N):\n",
    "            Z[j1, j2] = Z0[j1] * Z1[j2]\n",
    "        \n",
    "    return Z0, Z1, Z"
   ]
  },
  {
   "cell_type": "code",
   "execution_count": null,
   "metadata": {},
   "outputs": [],
   "source": [
    "N = 100\n",
    "i_coords = np.linspace(50, 450, N)\n",
    "j_coords = np.linspace(200e6, 300e6, N)\n",
    "XX, YY = np.meshgrid(i_coords, j_coords)\n",
    "Z0, Z1, Z = multivariate(i_coords, j_coords,N)"
   ]
  },
  {
   "cell_type": "code",
   "execution_count": null,
   "metadata": {},
   "outputs": [],
   "source": [
    "import matplotlib.pyplot as plt\n",
    "from mpl_toolkits.mplot3d import Axes3D\n",
    "from matplotlib import cm\n",
    "from matplotlib.ticker import LinearLocator, FormatStrFormatter\n",
    "import matplotlib.ticker as mticker\n",
    "\n",
    "fig = plt.figure()\n",
    "plt.rcParams[\"figure.figsize\"] = (12, 12)\n",
    "plt.rcParams.update({'font.size': 22})\n",
    "ax = fig.add_subplot(111, projection='3d')\n",
    "XX, YY = np.meshgrid(i_coords, j_coords)\n",
    "ax.plot_surface(XX, YY, Z.T, rstride=1, cstride=1, cmap=cm.coolwarm, linewidth=0, antialiased=False)\n",
    "ax.set_xlabel(r'$X_1$', FontSize=32)\n",
    "ax.set_ylabel(r'$X_2$', FontSize=32)\n",
    "ax.set_zlabel(r'$pdf$', FontSize=32)\n",
    "plt.locator_params(axis='y', nbins=3)\n",
    "plt.locator_params(axis='x', nbins=5)\n",
    "ax.xaxis.labelpad = 10 \n",
    "ax.yaxis.labelpad = 20\n",
    "ax.zaxis.labelpad = 15\n",
    "plt.savefig('Joint_density.pdf')\n",
    "plt.show()"
   ]
  },
  {
   "cell_type": "code",
   "execution_count": null,
   "metadata": {},
   "outputs": [],
   "source": [
    "N = 100\n",
    "\n",
    "XU = np.linspace(-3, 3, N)\n",
    "YU = np.linspace(-3, 3, N)\n",
    "XU, YU = np.meshgrid(XU, YU)\n",
    "\n",
    "# Mean vector and covariance matrix in the ostandard normal space\n",
    "mu_U = np.array([0., 0.])\n",
    "Sigma_U = np.array([[ 1. , 0.0], [0.0,  1]])\n",
    "\n",
    "# Pack X and Y into a single 3-dimensional array for the standard normal space\n",
    "posU = np.empty(XU.shape + (2,))\n",
    "posU[:, :, 0] = XU\n",
    "posU[:, :, 1] = YU\n",
    "ZU = multivariate_gaussian(posU, mu_U, Sigma_U)\n",
    "# Figure 4b\n",
    "MPP_U = [1.71017673, -0.69489947]\n",
    "plt.figure()\n",
    "plt.rcParams[\"figure.figsize\"] = (12, 12)\n",
    "plt.rcParams.update({'font.size': 22})      \n",
    "plt.plot([0, MPP_U[0]],[0, MPP_U[1]], 'b', Linewidth=6)   \n",
    "plt.plot(MPP_U[0], MPP_U[1],'bo',markersize=12)\n",
    "plt.contour(XU, YU, ZU, levels=20)\n",
    "plt.axhline(0, color='black')\n",
    "plt.axvline(0, color='black')\n",
    "plt.plot(0,0,'r.')\n",
    "\n",
    "u_hat = np.array([MPP_U[0], MPP_U[1]])\n",
    "v_hat = np.array([-MPP_U[1], MPP_U[0]])\n",
    "vr = 5 * v_hat/(np.linalg.norm(v_hat))\n",
    "a_hat = u_hat + vr\n",
    "b_hat = u_hat - vr\n",
    "plt.plot([a_hat[0],  b_hat[0]],[a_hat[1], b_hat[1]], 'k--', Linewidth=2, zorder=-1)\n",
    "\n",
    "plt.xlabel(r'$Y_1$', FontSize=32)\n",
    "plt.ylabel(r'$Y_2$', FontSize=32)\n",
    "plt.text(2.8, -0.2, '$Y^\\star$=({:1.1f}, {:1.1f})'.format(MPP_U[0], MPP_U[1]),\n",
    "         rotation=0,\n",
    "         horizontalalignment='center',\n",
    "         verticalalignment='top',\n",
    "         multialignment='center')\n",
    "\n",
    "plt.text(-0.3, -0.1, r'$(0,0)$',\n",
    "         rotation=0,\n",
    "         horizontalalignment='center',\n",
    "         verticalalignment='top',\n",
    "         multialignment='center')\n",
    "\n",
    "\n",
    "plt.text(0.9, -0.4, r'$\\overrightarrow{\\beta}$',\n",
    "         rotation=0,\n",
    "         horizontalalignment='center',\n",
    "         verticalalignment='top',\n",
    "         multialignment='center')\n",
    "\n",
    "#plt.text(0.02, -0.2, '({:1.1f}, {:1.1f})'.format(0.0, 0.0))\n",
    "plt.ylim([-3, 3])\n",
    "plt.xlim([-3.5, 3.5])\n",
    "plt.grid()\n",
    "plt.title('Standard Normal space')    \n",
    "plt.axes().set_aspect('equal', 'box')\n",
    "plt.savefig('Limit_state_{0}.pdf'.format('Y'))\n",
    "plt.show()"
   ]
  },
  {
   "cell_type": "code",
   "execution_count": null,
   "metadata": {},
   "outputs": [],
   "source": [
    "from numpy import ones,vstack\n",
    "from numpy.linalg import lstsq\n",
    "points = [(a_hat[0],a_hat[1]),  (b_hat[0],b_hat[1])]\n",
    "x_coords, y_coords = zip(*points)\n",
    "A = vstack([x_coords,ones(len(x_coords))]).T\n",
    "m, c = lstsq(A, y_coords)[0]\n",
    "print(\"Line Solution is y = {m}x + {c}\".format(m=m,c=c))\n",
    "\n",
    "x = np.linspace(0, 3, 100)\n",
    "y = 6.22*x -10.91\n",
    "u = np.vstack([x, y])"
   ]
  },
  {
   "cell_type": "code",
   "execution_count": null,
   "metadata": {},
   "outputs": [],
   "source": [
    "from UQpy.Transformations import Nataf, Correlate\n",
    "\n",
    "nataf_obj = Nataf(dist_object=[dist1, dist2])\n",
    "z = Correlate(u, nataf_obj.corr_z).samples_z\n",
    "x = nataf_obj.transform_z2x(samples_z=z.T)"
   ]
  },
  {
   "cell_type": "code",
   "execution_count": null,
   "metadata": {},
   "outputs": [],
   "source": [
    "# Figure 4a\n",
    "plt.figure()\n",
    "plt.rcParams[\"figure.figsize\"] = (12, 12)\n",
    "plt.rcParams.update({'font.size': 22})\n",
    "plt.plot(MPP_X[0]-5, MPP_X[1],'bo',markersize=12)\n",
    "plt.contour(XX, YY, Z.T, levels=60)\n",
    "plt.plot(x[:, 0], x[:, 1], 'k--', Linewidth=2,)\n",
    "#plt.axvline(MPP_X[0], color='black')\n",
    "#plt.axhline(250000000, color='black')\n",
    "#plt.plot(50,250000000,'r.')\n",
    "plt.xlim([30, 460])\n",
    "plt.ylim([1.5e8, 3.5e8])\n",
    "plt.xlabel(r'$X_1$', FontSize=35)\n",
    "plt.ylabel(r'$X_2$', FontSize=35)\n",
    "\n",
    "plt.text(420, 245025000, '$X^\\star$',\n",
    "         rotation=0,\n",
    "         horizontalalignment='center',\n",
    "         verticalalignment='top',\n",
    "         multialignment='center')\n",
    "\n",
    "\n",
    "plt.grid()\n",
    "plt.title('Physical space')    \n",
    "#plt.axes().set_aspect('equal', 'box')\n",
    "plt.savefig('Limit_state_{0}.pdf'.format('X'))\n",
    "plt.show()"
   ]
  }
 ],
 "metadata": {
  "kernelspec": {
   "display_name": "Python 3",
   "language": "python",
   "name": "python3"
  },
  "language_info": {
   "codemirror_mode": {
    "name": "ipython",
    "version": 3
   },
   "file_extension": ".py",
   "mimetype": "text/x-python",
   "name": "python",
   "nbconvert_exporter": "python",
   "pygments_lexer": "ipython3",
   "version": "3.7.4"
  }
 },
 "nbformat": 4,
 "nbformat_minor": 2
}
