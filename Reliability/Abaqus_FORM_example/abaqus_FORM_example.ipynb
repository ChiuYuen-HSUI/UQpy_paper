{
 "cells": [
  {
   "cell_type": "markdown",
   "metadata": {},
   "source": [
    "# Third-party software computation model example"
   ]
  },
  {
   "cell_type": "markdown",
   "metadata": {},
   "source": [
    "## Introduction"
   ]
  },
  {
   "cell_type": "markdown",
   "metadata": {},
   "source": [
    "This example file demonstrates how to build a RunModel object which enables UQpy to execute models in third-party software. The files necessary to run this example are:\n",
    "1. The input template - 'abaqus_input.py'\n",
    "2. The model script - 'abaqus_fire_analysis.py'\n",
    "3. The output script - 'extract_abaqus_output.py'\n",
    "4. The script used by the output script - 'abaqus_output_script.py'\n",
    "\n",
    "Note: To execute the example in this notebook, it is necessary to have access to the finite element solver Abaqus. "
   ]
  },
  {
   "cell_type": "markdown",
   "metadata": {},
   "source": [
    "## Description of the model"
   ]
  },
  {
   "cell_type": "markdown",
   "metadata": {},
   "source": [
    "This example builds and analyzes a finite element model of a beam bearing uniformly distributed load, which is then subjected to fire load.  "
   ]
  },
  {
   "cell_type": "markdown",
   "metadata": {},
   "source": [
    "## The script:"
   ]
  },
  {
   "cell_type": "markdown",
   "metadata": {},
   "source": [
    "Import the python modules used in this example, note down the start time and the current directory, which will be used later to save the results."
   ]
  },
  {
   "cell_type": "code",
   "execution_count": null,
   "metadata": {},
   "outputs": [],
   "source": [
    "from UQpy.RunModel import *\n",
    "from UQpy.Reliability import TaylorSeries\n",
    "import time\n",
    "import os\n",
    "import pickle\n",
    "import glob\n",
    "import matplotlib.pyplot as plt\n",
    "import numpy as np\n",
    "\n",
    "calling_directory = os.getcwd()\n",
    "t = time.time()"
   ]
  },
  {
   "cell_type": "markdown",
   "metadata": {},
   "source": [
    "### Building the model:"
   ]
  },
  {
   "cell_type": "markdown",
   "metadata": {},
   "source": [
    "There are two probabilistic input variables, the fire load density and the yield strength. The fire load density is denoted as 'qtd' and the yield strength is denoted as 'fy' in the template input script. These are different from the default variable names used by RunModel, and hence they must be passed in as one of the inputs while building the RunModel object."
   ]
  },
  {
   "cell_type": "code",
   "execution_count": null,
   "metadata": {},
   "outputs": [],
   "source": [
    "var_names = ['qtd', 'fy']"
   ]
  },
  {
   "cell_type": "markdown",
   "metadata": {},
   "source": [
    "#### Create the model object"
   ]
  },
  {
   "cell_type": "code",
   "execution_count": null,
   "metadata": {},
   "outputs": [],
   "source": [
    "abaqus_sfe_model = RunModel(model_script='abaqus_fire_analysis.py', input_template='abaqus_input.py',\n",
    "                            output_script='extract_abaqus_output.py',\n",
    "                            var_names=var_names, ntasks=1, model_dir='SFE_Example', verbose=True)\n",
    "print('Example: Created the model object.')"
   ]
  },
  {
   "cell_type": "markdown",
   "metadata": {},
   "source": [
    "### Instantiate a UQpy TaylorSeries object "
   ]
  },
  {
   "cell_type": "markdown",
   "metadata": {},
   "source": [
    "The fire load density is assumed to be uniformly distributed between 50 MJ/m^2 and 450 MJ/m^2. The yield strength is assumed to be normally distributed, with the parameters being: mean = 250 MPa and coefficient of variation of 7%."
   ]
  },
  {
   "cell_type": "code",
   "execution_count": null,
   "metadata": {},
   "outputs": [],
   "source": [
    "p1 = TaylorSeries(dimension=2, dist_name=['uniform', 'normal'],\n",
    "                  dist_params=[[50, 400], [250e6, 17.5e4]],\n",
    "                  n_iter=100, eps=0.01, df_method='forward',\n",
    "                  corr=np.eye(2), model=abaqus_sfe_model)"
   ]
  },
  {
   "cell_type": "markdown",
   "metadata": {},
   "source": [
    "### Performing reliability analysis"
   ]
  },
  {
   "cell_type": "code",
   "execution_count": null,
   "metadata": {},
   "outputs": [],
   "source": [
    "x0 = np.array([250, 2.5e8])\n",
    "p1.form(seed=x0)"
   ]
  },
  {
   "cell_type": "markdown",
   "metadata": {},
   "source": [
    "### Print the results"
   ]
  },
  {
   "cell_type": "code",
   "execution_count": null,
   "metadata": {},
   "outputs": [],
   "source": [
    "print('Design point in standard normal space: %s' % p1.DesignPoint_U)\n",
    "print('Design point in original space: %s' % p1.DesignPoint_X)\n",
    "print('Hasofer-Lind reliability index: %s' % p1.HL_beta)\n",
    "print('FORM probability of failure: %s' % p1.Prob_FORM)\n",
    "print('Performance function values: %s' % p1.g_record)\n",
    "print('FORM x points: %s' % p1.x_record)\n",
    "print('FORM u points: %s' % p1.u_record)\n",
    "print('Iterations: %s' % p1.iterations)"
   ]
  },
  {
   "cell_type": "markdown",
   "metadata": {},
   "source": [
    "### Save the results"
   ]
  },
  {
   "cell_type": "code",
   "execution_count": null,
   "metadata": {},
   "outputs": [],
   "source": [
    "results = {'outputs': [p1.DesignPoint_U, p1.DesignPoint_X, p1.HL_beta, p1.Prob_FORM, p1.iterations,\n",
    "                       p1.g_record, p1.dg_record, p1.u_check, p1.g_check, p1.x_record, p1.u_record, p1.alpha_record]}\n",
    "\n",
    "# Pickle the results dictionary in the current directory. The basename and extension of the desired pickle file:\n",
    "res_basename = 'FORM_results'\n",
    "res_extension = '.pkl'\n",
    "\n",
    "# Create a new results file with a larger index than any existing results files with the same name in the current\n",
    "# directory.\n",
    "res_file_list = glob.glob(res_basename + '_???' + res_extension)\n",
    "if len(res_file_list) == 0:\n",
    "    res_file_name = res_basename + '_000' + res_extension\n",
    "else:\n",
    "    max_number = max(res_file_list).split('.')[0].split('_')[-1]\n",
    "    res_file_name = res_basename + '_%03d' % (int(max_number) + 1) + res_extension\n",
    "\n",
    "res_file_name = os.path.join(calling_directory, res_file_name)\n",
    "# Save the results to this new file.\n",
    "with open(res_file_name, 'wb') as f:\n",
    "    pickle.dump(results, f)\n",
    "print('Saved the results to ' + res_file_name)\n",
    "\n",
    "\n",
    "print('Example: Done!')\n",
    "print('Time elapsed: %.2f minutes' % float((time.time() - t) / 60.0))"
   ]
  },
  {
   "cell_type": "code",
   "execution_count": null,
   "metadata": {},
   "outputs": [],
   "source": []
  }
 ],
 "metadata": {
  "kernelspec": {
   "display_name": "Python 3",
   "language": "python",
   "name": "python3"
  },
  "language_info": {
   "codemirror_mode": {
    "name": "ipython",
    "version": 3
   },
   "file_extension": ".py",
   "mimetype": "text/x-python",
   "name": "python",
   "nbconvert_exporter": "python",
   "pygments_lexer": "ipython3",
   "version": "3.6.4"
  }
 },
 "nbformat": 4,
 "nbformat_minor": 2
}
