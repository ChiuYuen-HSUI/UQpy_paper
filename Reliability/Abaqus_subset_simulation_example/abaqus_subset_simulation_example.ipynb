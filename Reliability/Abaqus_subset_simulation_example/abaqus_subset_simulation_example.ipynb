{
 "cells": [
  {
   "cell_type": "markdown",
   "metadata": {},
   "source": [
    "# Third-party software computation model example"
   ]
  },
  {
   "cell_type": "markdown",
   "metadata": {},
   "source": [
    "## Introduction"
   ]
  },
  {
   "cell_type": "markdown",
   "metadata": {},
   "source": [
    "This example file demonstrates how to build a RunModel object which enables UQpy to execute models in third-party software. The files necessary to run this example are:\n",
    "1. The input template - 'abaqus_input.py'\n",
    "2. The model script - 'abaqus_fire_analysis.py'\n",
    "3. The output script - 'extract_abaqus_output.py'\n",
    "4. The script used by the output script - 'abaqus_output_script.py'\n",
    "\n",
    "Note: To execute the example in this notebook, it is necessary to have access to the finite element solver Abaqus. "
   ]
  },
  {
   "cell_type": "markdown",
   "metadata": {},
   "source": [
    "## Details of the model"
   ]
  },
  {
   "cell_type": "markdown",
   "metadata": {},
   "source": [
    "This example builds and analyzes a finite element model of a beam bearing uniformly distributed load, which is then subjected to fire load.  "
   ]
  },
  {
   "cell_type": "markdown",
   "metadata": {},
   "source": [
    "## The script:"
   ]
  },
  {
   "cell_type": "markdown",
   "metadata": {},
   "source": [
    "Import the python modules used in this example, note down the start time and the current directory, which will be used later to save the results."
   ]
  },
  {
   "cell_type": "code",
   "execution_count": 1,
   "metadata": {},
   "outputs": [],
   "source": [
    "from UQpy.Reliability import SubsetSimulation\n",
    "import matplotlib.pyplot as plt\n",
    "from UQpy.SampleMethods import MCMC\n",
    "from UQpy.Distributions import Distribution\n",
    "from UQpy.RunModel import RunModel\n",
    "import glob\n",
    "import pickle\n",
    "import os\n",
    "import math\n",
    "import time\n",
    "\n",
    "calling_directory = os.getcwd()\n",
    "t = time.time()"
   ]
  },
  {
   "cell_type": "markdown",
   "metadata": {},
   "source": [
    "### Building the model:"
   ]
  },
  {
   "cell_type": "markdown",
   "metadata": {},
   "source": [
    "There are two probabilistic input variables, the fire load density and the yield strength. The fire load density is denoted as 'qtd' and the yield strength is denoted as 'fy' in the template input script. These are different from the default variable names used by RunModel, and hence they must be passed in as one of the inputs while building the RunModel object."
   ]
  },
  {
   "cell_type": "code",
   "execution_count": 2,
   "metadata": {},
   "outputs": [],
   "source": [
    "var_names = ['qtd', 'fy']"
   ]
  },
  {
   "cell_type": "markdown",
   "metadata": {},
   "source": [
    "#### Create the model object"
   ]
  },
  {
   "cell_type": "code",
   "execution_count": 3,
   "metadata": {},
   "outputs": [
    {
     "name": "stdout",
     "output_type": "stream",
     "text": [
      "Example: Created the model object.\n"
     ]
    }
   ],
   "source": [
    "abaqus_sfe_model = RunModel(model_script='abaqus_fire_analysis_subset_sfe.py',\n",
    "                            input_template='abaqus_input_subset_sfe.py',\n",
    "                            output_script='extract_abaqus_output_subset_sfe.py',\n",
    "                            var_names=['qtd', 'fy'], model_dir='Subset_SFE')\n",
    "print('Example: Created the model object.')"
   ]
  },
  {
   "cell_type": "markdown",
   "metadata": {},
   "source": [
    "### Create the MCMC object"
   ]
  },
  {
   "cell_type": "markdown",
   "metadata": {},
   "source": [
    "The subset simulation algorithm operates in the standard normal space. So, the input template to the RunModel object has been modified to accept samples from standard normal random variables and transform it to have the desired distribution. The MCMC object needs the target distribution and proposal distribution to be specified, which is done next."
   ]
  },
  {
   "cell_type": "code",
   "execution_count": 4,
   "metadata": {},
   "outputs": [],
   "source": [
    "# Specify the target distribution. This is standard normal for use with subset simulation in UQpy.\n",
    "dist = Distribution(dist_name=['normal', 'normal'], params=[[0, 1], [0, 1]])\n",
    "# The next command specifies the proposal density. It is passed in as a list of distributions, one each for each dimension of\n",
    "# of the random vector for use with the modified Metropolis-Hastings sampling algorithm.\n",
    "dist_prop = [Distribution('normal', params=[0., 1]), Distribution('normal', params=[0., 1])]\n",
    "mcmc_object = MCMC(dimension=2, algorithm='MMH', log_pdf_target=dist.log_pdf, proposal=dist_prop)"
   ]
  },
  {
   "cell_type": "markdown",
   "metadata": {},
   "source": [
    "### Perform subset simulation"
   ]
  },
  {
   "cell_type": "code",
   "execution_count": null,
   "metadata": {},
   "outputs": [
    {
     "name": "stdout",
     "output_type": "stream",
     "text": [
      "UQpy: Running Subset Simulation with MMH....\n",
      "Out:  0\n",
      "Example: Successful output extraction.\n",
      "Out:  0\n",
      "Example: Successful output extraction.\n",
      "Out:  0\n",
      "Example: Successful output extraction.\n",
      "Out:  0\n",
      "Example: Successful output extraction.\n"
     ]
    }
   ],
   "source": [
    "x_ss = SubsetSimulation(MCMC_object=mcmc_object, RunModel_object=abaqus_sfe_model, \n",
    "                        samples_init=None, p_cond=0.1, nsamples_ss=10, verbose=True)"
   ]
  },
  {
   "cell_type": "markdown",
   "metadata": {},
   "source": [
    "### Save the results"
   ]
  },
  {
   "cell_type": "code",
   "execution_count": null,
   "metadata": {},
   "outputs": [],
   "source": [
    "results = {'pf': x_ss.pf, 'cov': x_ss.cov1, 'samples': x_ss.samples, 'qois': x_ss.RunModel_object.qoi_list}\n",
    "\n",
    "# Pickle the results dictionary in the current directory. The basename and extension of the desired pickle file:\n",
    "res_basename = 'Subset_sfe_results'\n",
    "res_extension = '.pkl'\n",
    "\n",
    "# Create a new results file with a larger index than any existing results files with the same name in the current\n",
    "# directory.\n",
    "res_file_list = glob.glob(res_basename + '_???' + res_extension)\n",
    "if len(res_file_list) == 0:\n",
    "    res_file_name = res_basename + '_000' + res_extension\n",
    "else:\n",
    "    max_number = max(res_file_list).split('.')[0].split('_')[-1]\n",
    "    res_file_name = res_basename + '_%03d' % (int(max_number) + 1) + res_extension\n",
    "\n",
    "res_file_name = os.path.join(calling_directory, res_file_name)\n",
    "# Save the results to this new file.\n",
    "with open(res_file_name, 'wb') as f:\n",
    "    pickle.dump(results, f)\n",
    "print('Saved the results to ' + res_file_name)"
   ]
  },
  {
   "cell_type": "markdown",
   "metadata": {},
   "source": [
    "### Plot the results"
   ]
  },
  {
   "cell_type": "code",
   "execution_count": null,
   "metadata": {},
   "outputs": [],
   "source": [
    "# Load the results from the latest pickle dump.\n",
    "with open(res_file_name, 'rb') as f:\n",
    "    results = pickle.load(f)\n",
    "\n",
    "colors = ['red', 'blue', 'green', 'cyan', 'magenta', 'yellow', 'black']\n",
    "# Display the results\n",
    "pf = results['pf']\n",
    "cov = results['cov']\n",
    "print('Probability of failure: ', pf)\n",
    "print('Cov: ', cov)\n",
    "\n",
    "qois = results['qois']\n",
    "print(len(qois))\n",
    "\n",
    "samples = results['samples']\n",
    "# Plot the results\n",
    "for i in range(len(samples)):\n",
    "    print('Len: ', len(samples[i][:, 0]))\n",
    "    print(samples[i])\n",
    "    plt.scatter(samples[i][:, 0], samples[i][:, 1], color=colors[i], marker='o')\n",
    "plt.xlabel('$\\mathregular{U_1}$')\n",
    "plt.ylabel('$\\mathregular{U_2}$')\n",
    "plt.show()\n",
    "\n",
    "\n",
    "# Transform the random variable\n",
    "def phi(x=0):\n",
    "    return (1.0 + math.erf(x / math.sqrt(2.0))) / 2.0\n",
    "\n",
    "\n",
    "# Plot the results - samples converted to values used\n",
    "for i in range(len(samples)):\n",
    "    q = [50 + 400 * phi(x) for x in samples[i][:, 0]]\n",
    "    f = samples[i][:, 1] * 0.07 * 250e6 + 250e6\n",
    "    plt.scatter(q, f, color=colors[i], marker='o')\n",
    "plt.xlabel('$\\mathregular{q_{td}}$')\n",
    "plt.ylabel('$\\mathregular{f_y}$')\n",
    "plt.show()\n",
    "\n",
    "print('Example: Done!')\n",
    "print('Time elapsed: %.2f minutes' % float((time.time() - t) / 60.0))"
   ]
  }
 ],
 "metadata": {
  "kernelspec": {
   "display_name": "Python 3",
   "language": "python",
   "name": "python3"
  },
  "language_info": {
   "codemirror_mode": {
    "name": "ipython",
    "version": 3
   },
   "file_extension": ".py",
   "mimetype": "text/x-python",
   "name": "python",
   "nbconvert_exporter": "python",
   "pygments_lexer": "ipython3",
   "version": "3.6.4"
  }
 },
 "nbformat": 4,
 "nbformat_minor": 2
}
