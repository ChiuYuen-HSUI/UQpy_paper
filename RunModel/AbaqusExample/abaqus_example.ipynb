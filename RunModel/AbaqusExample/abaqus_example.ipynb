{
 "cells": [
  {
   "cell_type": "markdown",
   "metadata": {},
   "source": [
    "# Third-party software computation model example"
   ]
  },
  {
   "cell_type": "markdown",
   "metadata": {},
   "source": [
    "This example file demonstrates how to build a RunModel object which enables UQpy to execute models in third-party software - see **section 2.3** in the accompanying paper \"UQpy: A general purpose Python package and development environment for uncertainty quantification\". \n",
    "\n",
    "The files necessary to run this example are:\n",
    "1. The input template - 'abaqus_input.py'\n",
    "2. The model script - 'abaqus_fire_analysis.py'\n",
    "3. The output script - 'extract_abaqus_output.py'\n",
    "4. The script used by the output script - 'abaqus_output_script.py'\n",
    "\n",
    "Note: To execute the example in this notebook, it is necessary to have access to the finite element solver Abaqus. "
   ]
  },
  {
   "cell_type": "markdown",
   "metadata": {},
   "source": [
    "## Description of the model"
   ]
  },
  {
   "cell_type": "markdown",
   "metadata": {},
   "source": [
    "## The script:"
   ]
  },
  {
   "cell_type": "markdown",
   "metadata": {},
   "source": [
    "Import the python modules used in this example, note down the start time and the current directory, which will be used later to save the results."
   ]
  },
  {
   "cell_type": "code",
   "execution_count": 1,
   "metadata": {},
   "outputs": [],
   "source": [
    "from UQpy.RunModel import *\n",
    "import time\n",
    "import os\n",
    "import pickle\n",
    "import glob\n",
    "import matplotlib.pyplot as plt\n",
    "import numpy as np\n",
    "\n",
    "calling_directory = os.getcwd()\n",
    "t = time.time()"
   ]
  },
  {
   "cell_type": "markdown",
   "metadata": {},
   "source": [
    "### Building the model:"
   ]
  },
  {
   "cell_type": "markdown",
   "metadata": {},
   "source": [
    "There are two probabilistic input variables, the fire load density and the yield strength. The fire load density is denoted as 'qtd' and the yield strength is denoted as 'fy' in the template input script. These are different from the default variable names used by RunModel, and hence they must be passed in as one of the inputs while building the RunModel object."
   ]
  },
  {
   "cell_type": "code",
   "execution_count": 2,
   "metadata": {},
   "outputs": [],
   "source": [
    "var_names = ['qtd', 'fy']"
   ]
  },
  {
   "cell_type": "markdown",
   "metadata": {},
   "source": [
    "#### Create the model object"
   ]
  },
  {
   "cell_type": "code",
   "execution_count": 3,
   "metadata": {},
   "outputs": [
    {
     "name": "stdout",
     "output_type": "stream",
     "text": [
      "Example: Created the model object.\n"
     ]
    }
   ],
   "source": [
    "abaqus_sfe_model = RunModel(model_script='abaqus_fire_analysis.py', input_template='abaqus_input.py',\n",
    "                            output_script='extract_abaqus_output.py',\n",
    "                            var_names=var_names, ntasks=1, model_dir='SFE_Example')\n",
    "print('Example: Created the model object.')"
   ]
  },
  {
   "cell_type": "markdown",
   "metadata": {},
   "source": [
    "### Running the analysis"
   ]
  },
  {
   "cell_type": "markdown",
   "metadata": {},
   "source": [
    "The model is executed at two points in the input parameter space."
   ]
  },
  {
   "cell_type": "code",
   "execution_count": 4,
   "metadata": {},
   "outputs": [
    {
     "name": "stdout",
     "output_type": "stream",
     "text": [
      "Out:  0\n",
      "Example: Successful output extraction.\n",
      "Out:  0\n",
      "Example: Successful output extraction.\n"
     ]
    }
   ],
   "source": [
    "# Running simulations using the previously defined model object and samples\n",
    "sample_points = np.atleast_2d([[240, 250e6], [440, 220e6]])\n",
    "abaqus_sfe_model.run(samples=sample_points)"
   ]
  },
  {
   "cell_type": "markdown",
   "metadata": {},
   "source": [
    "### Saving the results to a pkl file"
   ]
  },
  {
   "cell_type": "code",
   "execution_count": 5,
   "metadata": {},
   "outputs": [
    {
     "name": "stdout",
     "output_type": "stream",
     "text": [
      "Saved the results to C:\\Users\\Aakash\\Reliability\\AbaqusExample\\RunModel_results_000.pkl\n"
     ]
    }
   ],
   "source": [
    "# The output from each analysis is the difference between the maximum allowable displacement and the \n",
    "# maximum displacement of the midpoint of the beam.\n",
    "qois = abaqus_sfe_model.qoi_list\n",
    "\n",
    "# Save the samples and the qois in a dictionary called results with keys 'inputs' and 'outputs'\n",
    "results = {'inputs': sample_points, 'outputs': qois}\n",
    "\n",
    "# Pickle the results dictionary in the current directory. The basename and extension of the desired pickle file:\n",
    "res_basename = 'RunModel_results'\n",
    "res_extension = '.pkl'\n",
    "\n",
    "# Create a new results file with a larger index than any existing results files with the same name in the current\n",
    "# directory.\n",
    "res_file_list = glob.glob(res_basename + '_???' + res_extension)\n",
    "if len(res_file_list) == 0:\n",
    "    res_file_name = res_basename + '_000' + res_extension\n",
    "else:\n",
    "    max_number = max(res_file_list).split('.')[0].split('_')[-1]\n",
    "    res_file_name = res_basename + '_%03d' % (int(max_number) + 1) + res_extension\n",
    "\n",
    "res_file_name = os.path.join(calling_directory, res_file_name)\n",
    "# Save the results to this new file.\n",
    "with open(res_file_name, 'wb') as f:\n",
    "    pickle.dump(results, f)\n",
    "print('Saved the results to ' + res_file_name)"
   ]
  },
  {
   "cell_type": "markdown",
   "metadata": {},
   "source": [
    "### Plotting the results"
   ]
  },
  {
   "cell_type": "code",
   "execution_count": 6,
   "metadata": {},
   "outputs": [
    {
     "data": {
      "image/png": "[encoded data removed]",
      "text/plain": [
       "<Figure size 640x480 with 1 Axes>"
      ]
     },
     "metadata": {},
     "output_type": "display_data"
    },
    {
     "name": "stdout",
     "output_type": "stream",
     "text": [
      "Probability of failure using 2 samples:  0.500000\n"
     ]
    }
   ],
   "source": [
    "# Load the results from the latest pickle dump.\n",
    "with open(res_file_name, 'rb') as f:\n",
    "    results = pickle.load(f)\n",
    "\n",
    "# Use the values loaded from pickle file.\n",
    "sample_points = results['inputs']\n",
    "Y = np.array(results['outputs'])\n",
    "\n",
    "x = sample_points[:, 0]\n",
    "y = sample_points[:, 1]\n",
    "\n",
    "# 2D plot showing success or failure\n",
    "fig = plt.figure(figsize=(8, 6), dpi=80, facecolor='w', edgecolor='k')\n",
    "p3 = plt.scatter(x[Y < 0], y[Y < 0] * 1e-6, color='Red', label='Failed')\n",
    "p4 = plt.scatter(x[Y >= 0], y[Y >= 0] * 1e-6, color='Blue', label='Did not fail')\n",
    "plt.grid(True)\n",
    "plt.xticks(fontsize=16)\n",
    "plt.yticks(fontsize=16)\n",
    "plt.xlabel('Fire load density (MJ/m$^2$)', FontSize=18)\n",
    "plt.ylabel('Yield strength (MPa)', FontSize=18)\n",
    "plt.legend()\n",
    "plt.tight_layout()\n",
    "plt.savefig('FireExample.pdf')\n",
    "plt.show()\n",
    "    \n",
    "# Compute probability of failure\n",
    "probability_of_failure = len(Y[Y < 0])/len(Y)\n",
    "print('Probability of failure using %d samples: % 0.6f' % (len(Y), probability_of_failure))"
   ]
  },
  {
   "cell_type": "code",
   "execution_count": null,
   "metadata": {},
   "outputs": [],
   "source": []
  }
 ],
 "metadata": {
  "kernelspec": {
   "display_name": "Python 3",
   "language": "python",
   "name": "python3"
  },
  "language_info": {
   "codemirror_mode": {
    "name": "ipython",
    "version": 3
   },
   "file_extension": ".py",
   "mimetype": "text/x-python",
   "name": "python",
   "nbconvert_exporter": "python",
   "pygments_lexer": "ipython3",
   "version": "3.7.4"
  }
 },
 "nbformat": 4,
 "nbformat_minor": 2
}